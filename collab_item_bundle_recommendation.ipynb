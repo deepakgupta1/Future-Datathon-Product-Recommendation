{
 "cells": [
  {
   "cell_type": "markdown",
   "metadata": {},
   "source": [
    "### Introduction\n",
    "\n",
    "Here we are going to build a collaborative filtering recommendation engine which relies on past purchases of a customer. In simple words, we make recommendations based on, what all products have been most commonly brought along with the product purchased by the customer. \n",
    "\n",
    "It's not the most powerful approach, but should give you a quick lead on solving this problem.\n"
   ]
  },
  {
   "cell_type": "code",
   "execution_count": 1,
   "metadata": {},
   "outputs": [],
   "source": [
    "## load libraries\n",
    "import pandas as pd\n",
    "import numpy as np\n",
    "from sklearn.preprocessing import LabelEncoder\n",
    "import scipy.sparse as sps\n",
    "import warnings\n",
    "warnings.filterwarnings('ignore')\n",
    "from tqdm import tqdm"
   ]
  },
  {
   "cell_type": "code",
   "execution_count": 2,
   "metadata": {},
   "outputs": [],
   "source": [
    "# load product and sample file\n",
    "products = pd.read_csv('products.csv')"
   ]
  },
  {
   "cell_type": "code",
   "execution_count": 3,
   "metadata": {
    "collapsed": true
   },
   "outputs": [],
   "source": [
    "sample = pd.read_csv('sampleSubmission.csv')"
   ]
  },
  {
   "cell_type": "code",
   "execution_count": 4,
   "metadata": {},
   "outputs": [
    {
     "data": {
      "text/html": [
       "<div>\n",
       "<style>\n",
       "    .dataframe thead tr:only-child th {\n",
       "        text-align: right;\n",
       "    }\n",
       "\n",
       "    .dataframe thead th {\n",
       "        text-align: left;\n",
       "    }\n",
       "\n",
       "    .dataframe tbody tr th {\n",
       "        vertical-align: top;\n",
       "    }\n",
       "</style>\n",
       "<table border=\"1\" class=\"dataframe\">\n",
       "  <thead>\n",
       "    <tr style=\"text-align: right;\">\n",
       "      <th></th>\n",
       "      <th>customerID</th>\n",
       "      <th>products</th>\n",
       "    </tr>\n",
       "  </thead>\n",
       "  <tbody>\n",
       "    <tr>\n",
       "      <th>0</th>\n",
       "      <td>BBID_204221</td>\n",
       "      <td>300663432,1000099534,1000475598,None,None,None...</td>\n",
       "    </tr>\n",
       "    <tr>\n",
       "      <th>1</th>\n",
       "      <td>BBID_204254</td>\n",
       "      <td>300663432,1000099534,1000475598,None,None,None...</td>\n",
       "    </tr>\n",
       "    <tr>\n",
       "      <th>2</th>\n",
       "      <td>BBID_204830</td>\n",
       "      <td>300663432,1000099534,1000475598,None,None,None...</td>\n",
       "    </tr>\n",
       "    <tr>\n",
       "      <th>3</th>\n",
       "      <td>BBID_204880</td>\n",
       "      <td>300663432,1000099534,1000475598,None,None,None...</td>\n",
       "    </tr>\n",
       "    <tr>\n",
       "      <th>4</th>\n",
       "      <td>BBID_204910</td>\n",
       "      <td>300663432,1000099534,1000475598,None,None,None...</td>\n",
       "    </tr>\n",
       "  </tbody>\n",
       "</table>\n",
       "</div>"
      ],
      "text/plain": [
       "    customerID                                           products\n",
       "0  BBID_204221  300663432,1000099534,1000475598,None,None,None...\n",
       "1  BBID_204254  300663432,1000099534,1000475598,None,None,None...\n",
       "2  BBID_204830  300663432,1000099534,1000475598,None,None,None...\n",
       "3  BBID_204880  300663432,1000099534,1000475598,None,None,None...\n",
       "4  BBID_204910  300663432,1000099534,1000475598,None,None,None..."
      ]
     },
     "execution_count": 4,
     "metadata": {},
     "output_type": "execute_result"
    }
   ],
   "source": [
    "sample.head()"
   ]
  },
  {
   "cell_type": "code",
   "execution_count": 5,
   "metadata": {},
   "outputs": [
    {
     "data": {
      "text/plain": [
       "False"
      ]
     },
     "execution_count": 5,
     "metadata": {},
     "output_type": "execute_result"
    }
   ],
   "source": [
    "'BBID_20410043' in sample['customerID']"
   ]
  },
  {
   "cell_type": "code",
   "execution_count": 6,
   "metadata": {},
   "outputs": [
    {
     "data": {
      "text/plain": [
       "165055"
      ]
     },
     "execution_count": 6,
     "metadata": {},
     "output_type": "execute_result"
    }
   ],
   "source": [
    "## number of unique customers\n",
    "products['customerID'].nunique()"
   ]
  },
  {
   "cell_type": "markdown",
   "metadata": {},
   "source": [
    "### To avoid memory error, lets build first model using June 2016 onwards data"
   ]
  },
  {
   "cell_type": "code",
   "execution_count": 7,
   "metadata": {
    "collapsed": true
   },
   "outputs": [],
   "source": [
    "products['transactionDate'] = pd.to_datetime(products['transactionDate'])\n",
    "mask = (products['transactionDate'] >= '2016-12-01')\n",
    "products = products.loc[mask]"
   ]
  },
  {
   "cell_type": "code",
   "execution_count": 8,
   "metadata": {},
   "outputs": [],
   "source": [
    "products.sort_values('transactionDate',inplace=True)\n",
    "products = products.reset_index(drop=True)"
   ]
  },
  {
   "cell_type": "code",
   "execution_count": 9,
   "metadata": {},
   "outputs": [],
   "source": [
    "## take only those customers which are in sample submission file\n",
    "products_2 = products[products['customerID'].isin(sample['customerID'])]\n",
    "\n",
    "## remove missing values # 4\n",
    "products_2 = products_2[~pd.isnull(products_2['product_code'])]\n",
    "\n",
    "## convert type of product code\n",
    "products_2['product_code'] = products_2['product_code'].astype(np.int64)"
   ]
  },
  {
   "cell_type": "code",
   "execution_count": 10,
   "metadata": {},
   "outputs": [],
   "source": [
    "products_2 = products_2.loc[:,['customerID','product_code']]\n",
    "products_2 = products_2.reset_index(drop=True)"
   ]
  },
  {
   "cell_type": "code",
   "execution_count": 11,
   "metadata": {},
   "outputs": [],
   "source": [
    "## these customers are not in train, so we'll predict None for them at last\n",
    "misfit_customers = list(set(sample['customerID']) - set(products_2['customerID']))"
   ]
  },
  {
   "cell_type": "markdown",
   "metadata": {},
   "source": [
    "### user X product matrix"
   ]
  },
  {
   "cell_type": "code",
   "execution_count": 12,
   "metadata": {
    "collapsed": true
   },
   "outputs": [],
   "source": [
    "## create product list by customers\n",
    "products_2 = products_2.groupby('customerID')['product_code'].apply(lambda x: x.tolist()).reset_index()"
   ]
  },
  {
   "cell_type": "code",
   "execution_count": 13,
   "metadata": {},
   "outputs": [],
   "source": [
    "## remove duplicate products\n",
    "products_2['product_code'] = products_2['product_code'].map(lambda x: list(set(x)))"
   ]
  },
  {
   "cell_type": "code",
   "execution_count": 14,
   "metadata": {
    "collapsed": true
   },
   "outputs": [],
   "source": [
    "## fix product max len to 20 (we'll pick the last 20 i.e most recent ones)\n",
    "products_2['product_code'] = products_2['product_code'].map(lambda x: x[-20:])"
   ]
  },
  {
   "cell_type": "code",
   "execution_count": 15,
   "metadata": {},
   "outputs": [],
   "source": [
    "### create a list of customers & products\n",
    "\n",
    "customerIDs = []\n",
    "product_codes = []\n",
    "\n",
    "for index, row in products_2.iterrows():\n",
    "    #if index % 10 == 0:\n",
    "    #    print (index)\n",
    "    ls_len = len(row['product_code'])\n",
    "    customerIDs.extend(np.repeat(row['customerID'], ls_len))\n",
    "    product_codes.extend(row['product_code'])"
   ]
  },
  {
   "cell_type": "code",
   "execution_count": 16,
   "metadata": {
    "collapsed": true
   },
   "outputs": [],
   "source": [
    "## encode values \n",
    "\n",
    "from sklearn.preprocessing import LabelEncoder\n",
    "\n",
    "lbl = LabelEncoder() ## for customers\n",
    "customerIDs = lbl.fit_transform(customerIDs)\n",
    " \n",
    "lbl2 = LabelEncoder() ## for products\n",
    "product_codes = lbl2.fit_transform(product_codes)\n"
   ]
  },
  {
   "cell_type": "code",
   "execution_count": 17,
   "metadata": {
    "collapsed": true
   },
   "outputs": [],
   "source": [
    "n_unique_users = len(set(customerIDs))\n",
    "n_unique_products = len(set(product_codes))\n",
    "\n",
    "row = customerIDs\n",
    "col = product_codes\n",
    "\n",
    "vals = np.repeat(1, len(row))\n",
    "\n",
    "## this matrix has information about a user bought which all products.\n",
    "user_product_matrix = sps.csr_matrix((vals, (row, col)), shape=(n_unique_users, n_unique_products))\n",
    "\n",
    "## this matrix has information a product got bought along with which other products, and how many times\n",
    "product_cooccurence_matrix = (user_product_matrix.T * user_product_matrix)\n",
    "\n",
    "## set diagonal equals to zero since we are not interested in knowing the count of a product with itself\n",
    "product_cooccurence_matrix.setdiag(np.repeat(0, product_cooccurence_matrix.shape[0]))"
   ]
  },
  {
   "cell_type": "code",
   "execution_count": 18,
   "metadata": {
    "collapsed": true
   },
   "outputs": [],
   "source": [
    "## create a data frame of encoded values\n",
    "product_summary = pd.DataFrame({'customerID':customerIDs, 'product_code':product_codes})\n",
    "product_summary = product_summary.groupby('customerID')['product_code'].agg(lambda x:x.tolist()).reset_index().rename(columns = {0:'product_collection'})"
   ]
  },
  {
   "cell_type": "code",
   "execution_count": 19,
   "metadata": {
    "collapsed": true
   },
   "outputs": [],
   "source": [
    "## how many recommendation to make\n",
    "def take_top_(x):\n",
    "    if x >= 20:\n",
    "        return 1\n",
    "    else:\n",
    "        if x < 20:\n",
    "            return int(np.round(20/x))\n",
    "        \n",
    "## get count of products per customer\n",
    "product_summary['len_collection'] = product_summary['product_collection'].map(len)\n",
    "\n",
    "## if a customer has 20 products in the list, we'll take 1 top most product per each product\n",
    "product_summary['take_top'] = product_summary['len_collection'].map(lambda x: take_top_(x))"
   ]
  },
  {
   "cell_type": "code",
   "execution_count": 20,
   "metadata": {
    "collapsed": true
   },
   "outputs": [],
   "source": [
    "## recommendation function\n",
    "def recommend_affinity(user):\n",
    "    \n",
    "    products_ = product_summary[product_summary['customerID'] == user]['product_collection'].iloc[0] # returns list\n",
    "    take_top_ = product_summary[product_summary['customerID'] == user]['take_top'].iloc[0]\n",
    "    \n",
    "    recs = []\n",
    "    \n",
    "    if take_top_ == 0:\n",
    "        return recs\n",
    "    \n",
    "    ## here we get the list of products which were bought the maximum number of times along with a particular productr\n",
    "    for tt in products_:\n",
    "        s = np.squeeze(np.asarray(product_cooccurence_matrix[tt].todense())) ## list of products bought with counts` with that product\n",
    "        ll = s.argsort()[-int(take_top_):][::-1]\n",
    "        recs.append(list(ll))\n",
    "\n",
    "    recs = list(np.vstack(recs).flatten('F'))\n",
    " \n",
    "    if not recs:\n",
    "        return recs\n",
    "    \n",
    "    return recs"
   ]
  },
  {
   "cell_type": "code",
   "execution_count": 21,
   "metadata": {
    "collapsed": true
   },
   "outputs": [],
   "source": [
    "## recommendation for customers\n",
    "unique_customers = []\n",
    "\n",
    "for i in sample['customerID']:\n",
    "    if i not in misfit_customers:\n",
    "        unique_customers.append(i)\n",
    "\n",
    "unique_customers = lbl.fit_transform(unique_customers)"
   ]
  },
  {
   "cell_type": "code",
   "execution_count": 22,
   "metadata": {},
   "outputs": [
    {
     "name": "stderr",
     "output_type": "stream",
     "text": [
      "100%|██████████| 25754/25754 [3:08:06<00:00,  2.35it/s]  \n"
     ]
    }
   ],
   "source": [
    "from collections import defaultdict\n",
    "out_dict = defaultdict(list)\n",
    "\n",
    "nulls = []\n",
    "\n",
    "for user in tqdm(unique_customers): #[:50]): ## i took first 50 customers. \n",
    "    rec = recommend_affinity(user)\n",
    "    if not rec:\n",
    "        nulls.append(user)\n",
    "    out_dict[user] = rec\n",
    "#     if i% 10 == 0:\n",
    "#         print(i)"
   ]
  },
  {
   "cell_type": "code",
   "execution_count": 23,
   "metadata": {},
   "outputs": [],
   "source": [
    "## get unique items per customer\n",
    "from collections import defaultdict\n",
    "\n",
    "out_dict_2 = defaultdict(list)\n",
    "\n",
    "for k,v in out_dict.items():\n",
    "    out_dict_2[k] = list(set(v))"
   ]
  },
  {
   "cell_type": "code",
   "execution_count": 24,
   "metadata": {
    "collapsed": true
   },
   "outputs": [],
   "source": [
    "## convert key values to inverse customer codes\n",
    "\n",
    "customer_codes = list(lbl.inverse_transform(customerIDs))\n",
    "customer_maps = dict(zip(list(customerIDs), list(customer_codes)))"
   ]
  },
  {
   "cell_type": "code",
   "execution_count": 25,
   "metadata": {
    "collapsed": true
   },
   "outputs": [],
   "source": [
    "out_dict_3 = defaultdict(list)\n",
    "\n",
    "for k,v in out_dict_2.items():\n",
    "    out_dict_3[customer_maps[k]] = out_dict_2[k]"
   ]
  },
  {
   "cell_type": "code",
   "execution_count": 26,
   "metadata": {
    "collapsed": true
   },
   "outputs": [],
   "source": [
    "mis_dict = defaultdict(list)\n",
    "\n",
    "for i in misfit_customers:\n",
    "    mis_dict[i] = list(np.repeat('None', 20))"
   ]
  },
  {
   "cell_type": "code",
   "execution_count": 27,
   "metadata": {
    "collapsed": true
   },
   "outputs": [],
   "source": [
    "out_dict_3.update(mis_dict)"
   ]
  },
  {
   "cell_type": "code",
   "execution_count": 28,
   "metadata": {},
   "outputs": [],
   "source": [
    "submission = pd.DataFrame(list(out_dict_3.items()), columns=['customerID','products'])"
   ]
  },
  {
   "cell_type": "code",
   "execution_count": 29,
   "metadata": {},
   "outputs": [
    {
     "data": {
      "text/html": [
       "<div>\n",
       "<style>\n",
       "    .dataframe thead tr:only-child th {\n",
       "        text-align: right;\n",
       "    }\n",
       "\n",
       "    .dataframe thead th {\n",
       "        text-align: left;\n",
       "    }\n",
       "\n",
       "    .dataframe tbody tr th {\n",
       "        vertical-align: top;\n",
       "    }\n",
       "</style>\n",
       "<table border=\"1\" class=\"dataframe\">\n",
       "  <thead>\n",
       "    <tr style=\"text-align: right;\">\n",
       "      <th></th>\n",
       "      <th>customerID</th>\n",
       "      <th>products</th>\n",
       "    </tr>\n",
       "  </thead>\n",
       "  <tbody>\n",
       "    <tr>\n",
       "      <th>0</th>\n",
       "      <td>BBID_211417787</td>\n",
       "      <td>[5913, 5914, 6100]</td>\n",
       "    </tr>\n",
       "    <tr>\n",
       "      <th>1</th>\n",
       "      <td>BBID_211417786</td>\n",
       "      <td>[5913, 6178, 3235, 5914, 8439]</td>\n",
       "    </tr>\n",
       "    <tr>\n",
       "      <th>2</th>\n",
       "      <td>BBID_204110903</td>\n",
       "      <td>[6178, 2338, 6638, 3639, 5913, 5914]</td>\n",
       "    </tr>\n",
       "    <tr>\n",
       "      <th>3</th>\n",
       "      <td>BBID_204110902</td>\n",
       "      <td>[None, None, None, None, None, None, None, Non...</td>\n",
       "    </tr>\n",
       "    <tr>\n",
       "      <th>4</th>\n",
       "      <td>BBID_211417783</td>\n",
       "      <td>[6178, 2472, 83, 10585, 5912, 5913, 5914]</td>\n",
       "    </tr>\n",
       "  </tbody>\n",
       "</table>\n",
       "</div>"
      ],
      "text/plain": [
       "       customerID                                           products\n",
       "0  BBID_211417787                                 [5913, 5914, 6100]\n",
       "1  BBID_211417786                     [5913, 6178, 3235, 5914, 8439]\n",
       "2  BBID_204110903               [6178, 2338, 6638, 3639, 5913, 5914]\n",
       "3  BBID_204110902  [None, None, None, None, None, None, None, Non...\n",
       "4  BBID_211417783          [6178, 2472, 83, 10585, 5912, 5913, 5914]"
      ]
     },
     "execution_count": 29,
     "metadata": {},
     "output_type": "execute_result"
    }
   ],
   "source": [
    "submission.head()"
   ]
  },
  {
   "cell_type": "code",
   "execution_count": 30,
   "metadata": {
    "collapsed": true
   },
   "outputs": [],
   "source": [
    "product_codes_inv = list(lbl2.inverse_transform(product_codes))\n",
    "product_maps = dict(zip(list(product_codes), list(product_codes_inv)))"
   ]
  },
  {
   "cell_type": "code",
   "execution_count": 31,
   "metadata": {},
   "outputs": [],
   "source": [
    "submission['products'] = submission['products'].map(lambda x: [product_maps.get(s) for s in x])"
   ]
  },
  {
   "cell_type": "code",
   "execution_count": 32,
   "metadata": {},
   "outputs": [],
   "source": [
    "for index, row in submission.iterrows():\n",
    "    max_len = 20\n",
    "    if len(row['products']) < max_len:\n",
    "        size = len(row['products'])\n",
    "        diff_ = max_len - size\n",
    "        a = row['products']\n",
    "        a.extend(np.repeat('None', diff_))\n",
    "        submission.loc[index, 'products'] = a\n",
    "    else:\n",
    "        submission.loc[index, 'products'] = row['products'][:20]"
   ]
  },
  {
   "cell_type": "code",
   "execution_count": 33,
   "metadata": {
    "collapsed": true
   },
   "outputs": [],
   "source": [
    "submission['products'] = submission['products'].map(lambda x: ','.join(str(e) for e in x))"
   ]
  },
  {
   "cell_type": "code",
   "execution_count": 34,
   "metadata": {},
   "outputs": [
    {
     "data": {
      "text/html": [
       "<div>\n",
       "<style>\n",
       "    .dataframe thead tr:only-child th {\n",
       "        text-align: right;\n",
       "    }\n",
       "\n",
       "    .dataframe thead th {\n",
       "        text-align: left;\n",
       "    }\n",
       "\n",
       "    .dataframe tbody tr th {\n",
       "        vertical-align: top;\n",
       "    }\n",
       "</style>\n",
       "<table border=\"1\" class=\"dataframe\">\n",
       "  <thead>\n",
       "    <tr style=\"text-align: right;\">\n",
       "      <th></th>\n",
       "      <th>customerID</th>\n",
       "      <th>products</th>\n",
       "    </tr>\n",
       "  </thead>\n",
       "  <tbody>\n",
       "    <tr>\n",
       "      <th>0</th>\n",
       "      <td>BBID_211417787</td>\n",
       "      <td>300776410,300776411,300825596,None,None,None,N...</td>\n",
       "    </tr>\n",
       "    <tr>\n",
       "      <th>1</th>\n",
       "      <td>BBID_211417786</td>\n",
       "      <td>300776410,300840018,300088564,300776411,100003...</td>\n",
       "    </tr>\n",
       "    <tr>\n",
       "      <th>2</th>\n",
       "      <td>BBID_204110903</td>\n",
       "      <td>300840018,108035436,300942697,300196348,300776...</td>\n",
       "    </tr>\n",
       "    <tr>\n",
       "      <th>3</th>\n",
       "      <td>BBID_204110902</td>\n",
       "      <td>None,None,None,None,None,None,None,None,None,N...</td>\n",
       "    </tr>\n",
       "    <tr>\n",
       "      <th>4</th>\n",
       "      <td>BBID_211417783</td>\n",
       "      <td>300840018,108037568,102065781,1000207342,30077...</td>\n",
       "    </tr>\n",
       "  </tbody>\n",
       "</table>\n",
       "</div>"
      ],
      "text/plain": [
       "       customerID                                           products\n",
       "0  BBID_211417787  300776410,300776411,300825596,None,None,None,N...\n",
       "1  BBID_211417786  300776410,300840018,300088564,300776411,100003...\n",
       "2  BBID_204110903  300840018,108035436,300942697,300196348,300776...\n",
       "3  BBID_204110902  None,None,None,None,None,None,None,None,None,N...\n",
       "4  BBID_211417783  300840018,108037568,102065781,1000207342,30077..."
      ]
     },
     "execution_count": 34,
     "metadata": {},
     "output_type": "execute_result"
    }
   ],
   "source": [
    "submission.head()"
   ]
  },
  {
   "cell_type": "code",
   "execution_count": 35,
   "metadata": {},
   "outputs": [],
   "source": [
    "submission.to_csv('sub_0001.csv', index=False)"
   ]
  },
  {
   "cell_type": "code",
   "execution_count": null,
   "metadata": {
    "collapsed": true
   },
   "outputs": [],
   "source": []
  }
 ],
 "metadata": {
  "kernelspec": {
   "display_name": "Python 3",
   "language": "python",
   "name": "python3"
  },
  "language_info": {
   "codemirror_mode": {
    "name": "ipython",
    "version": 3
   },
   "file_extension": ".py",
   "mimetype": "text/x-python",
   "name": "python",
   "nbconvert_exporter": "python",
   "pygments_lexer": "ipython3",
   "version": "3.7.0"
  }
 },
 "nbformat": 4,
 "nbformat_minor": 2
}
